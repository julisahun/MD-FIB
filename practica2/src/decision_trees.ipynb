{
 "cells": [
  {
   "cell_type": "code",
   "execution_count": null,
   "metadata": {},
   "outputs": [],
   "source": [
    "import numpy as np                     # Llibreria matemÃ tica\n",
    "import pandas as pd\n",
    "import matplotlib.pyplot as plt        # Per mostrar plots\n",
    "import sklearn                         # Llibreia de DM\n",
    "import sklearn.datasets as ds            # Per carregar mÃ©s facilment el dataset digits\n",
    "import sklearn.model_selection as cv    # Pel Cross-validation\n",
    "import sklearn.neighbors as nb           # Per fer servir el knn\n",
    "%matplotlib inline   \n",
    "\n",
    "def load_data():\n",
    "  global df\n",
    "  from google.colab import drive\n",
    "  drive.mount('/content/drive')\n",
    "  df=pd.read_csv('/content/drive/MyDrive/MD/Laboratori/Practica 2/data/smoking_preprocessed.csv')"
   ]
  },
  {
   "attachments": {},
   "cell_type": "markdown",
   "metadata": {},
   "source": [
    "**LOAD DATA**"
   ]
  },
  {
   "cell_type": "code",
   "execution_count": null,
   "metadata": {},
   "outputs": [],
   "source": [
    "load_data()\n",
    "df.head()"
   ]
  },
  {
   "cell_type": "code",
   "execution_count": null,
   "metadata": {},
   "outputs": [],
   "source": [
    "# Divide data between all dataset without smoking and smoking label\n",
    "\n",
    "X = df.drop('smoking', axis=1)\n",
    "y = df.smoking\n",
    "(X_train, X_test,  y_train, y_test) = cv.train_test_split(X, y, test_size=.3, random_state=1)"
   ]
  },
  {
   "attachments": {},
   "cell_type": "markdown",
   "metadata": {},
   "source": [
    "**DECISION TREES**"
   ]
  },
  {
   "cell_type": "code",
   "execution_count": null,
   "metadata": {},
   "outputs": [],
   "source": [
    "from sklearn import tree\n",
    "from sklearn.metrics import confusion_matrix\n",
    "from sklearn.metrics import  ConfusionMatrixDisplay, RocCurveDisplay\n",
    "from statsmodels.stats.proportion import proportion_confint\n",
    "\n",
    "clf = tree.DecisionTreeClassifier(criterion='entropy', min_samples_split=2,min_impurity_decrease=0.02)\n",
    "\n",
    "pred = clf.fit(X_train, y_train).predict(X_test)\n",
    "fig, axes = plt.subplots(1,2,figsize=(15,5))\n",
    "ax = axes.reshape(-1)[0]\n",
    "ConfusionMatrixDisplay.from_estimator(clf, X_test, y_test, display_labels=[\"no_smoking\", \"smoking\"], ax=ax)\n",
    "\n",
    "# La curva ROC muestra la relación entre la tasa de verdaderos positivos (TPR, True Positive Rate) en el eje y y la tasa de falsos positivos (FPR, False Positive Rate) en el eje x. \n",
    "ax = axes.reshape(-1)[1]\n",
    "RocCurveDisplay.from_estimator(clf, X_test, y_test, ax=ax, pos_label=1)\n",
    "\n",
    "# Obtain accuracy score of learned classifier on test data\n",
    "print(clf.score(X_test, y_test))\n",
    "print(confusion_matrix(y_test, pred))\n",
    "print()\n",
    "print(\"Accuracy:\", sklearn.metrics.accuracy_score(y_test, pred))\n",
    "print()\n",
    "print(sklearn.metrics.classification_report(y_test, pred))\n",
    "epsilon = sklearn.metrics.accuracy_score(y_test, pred)\n",
    "proportion_confint(count=epsilon*X_test.shape[0], nobs=X_test.shape[0], alpha=0.05, method='normal')\n",
    "\n",
    "fig = plt.gcf()\n",
    "fig.set_dpi(150)\n",
    "\n",
    "tree.plot_tree(clf, filled=True,rounded=True)\n",
    "fig.savefig('tree.png')\n",
    "plt.show()"
   ]
  },
  {
   "attachments": {},
   "cell_type": "markdown",
   "metadata": {},
   "source": [
    "Find best params"
   ]
  },
  {
   "cell_type": "code",
   "execution_count": null,
   "metadata": {},
   "outputs": [],
   "source": [
    "from sklearn.model_selection import GridSearchCV\n",
    "\n",
    "params = {\n",
    "    'criterion': ['entropy','gini'],\n",
    "    'splitter': ['best','random'],\n",
    "    'min_impurity_decrease': list(np.linspace(0,0.5,21)),\n",
    "    'min_samples_split':list(range(2,20,11))\n",
    "    }\n",
    "clf = GridSearchCV(tree.DecisionTreeClassifier(criterion='entropy'), param_grid=params,cv=10,n_jobs=-1)  # If cv is integer, by default is Stratifyed \n",
    "clf.fit(X_train, y_train)\n",
    "print(\"Best Params =\",clf.best_params_, \"Accuracy=\", clf.best_score_)\n",
    "  "
   ]
  },
  {
   "attachments": {},
   "cell_type": "markdown",
   "metadata": {},
   "source": [
    "Try classification with best params"
   ]
  },
  {
   "cell_type": "code",
   "execution_count": null,
   "metadata": {},
   "outputs": [],
   "source": [
    "clf=tree.DecisionTreeClassifier(criterion=clf.best_params_['criterion'], splitter=clf.best_params_['splitter'], min_samples_split=clf.best_params_['min_samples_split'],min_impurity_decrease=clf.best_params_['min_impurity_decrease'])\n",
    "clf = clf.fit(X_train, y_train)\n",
    "pred = clf.predict(X_test)\n",
    "\n",
    "# Obtain accuracy score of learned classifier on test data\n",
    "print(clf.score(X_test, y_test))\n",
    "print(confusion_matrix(y_test, pred))\n",
    "print()\n",
    "print(\"Accuracy:\", sklearn.metrics.accuracy_score(y_test, pred))\n",
    "print()\n",
    "print(sklearn.metrics.classification_report(y_test, pred))\n",
    "epsilon = sklearn.metrics.accuracy_score(y_test, pred)\n",
    "print(\"Interval of confidence:\", proportion_confint(count=epsilon*X_test.shape[0], nobs=X_test.shape[0], alpha=0.05, method='normal'))\n"
   ]
  },
  {
   "cell_type": "code",
   "execution_count": null,
   "metadata": {},
   "outputs": [],
   "source": [
    "fig = plt.gcf()\n",
    "fig.set_dpi(150)\n",
    "\n",
    "tree.plot_tree(clf, filled=True,rounded=True)\n",
    "fig.savefig('best_tree.png')\n",
    "columns = list(X.columns)\n",
    "#plt.show()"
   ]
  }
 ],
 "metadata": {
  "language_info": {
   "name": "python"
  },
  "orig_nbformat": 4
 },
 "nbformat": 4,
 "nbformat_minor": 2
}
